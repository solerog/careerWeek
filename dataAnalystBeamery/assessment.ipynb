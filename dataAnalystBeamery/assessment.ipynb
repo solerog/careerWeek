{
 "cells": [
  {
   "cell_type": "markdown",
   "metadata": {},
   "source": [
    "# Beamery SQL assessment"
   ]
  },
  {
   "cell_type": "markdown",
   "metadata": {},
   "source": [
    "## Global imports"
   ]
  },
  {
   "cell_type": "code",
   "execution_count": 2,
   "metadata": {},
   "outputs": [],
   "source": [
    "import pandas as pd\n",
    "import sqlite3"
   ]
  },
  {
   "cell_type": "markdown",
   "metadata": {},
   "source": [
    "## Create database and tables from `csv`"
   ]
  },
  {
   "cell_type": "code",
   "execution_count": 3,
   "metadata": {},
   "outputs": [],
   "source": [
    "conn = sqlite3.connect('beamery.db')\n",
    "cursor = conn.cursor()"
   ]
  },
  {
   "cell_type": "code",
   "execution_count": 4,
   "metadata": {},
   "outputs": [
    {
     "ename": "ValueError",
     "evalue": "Table 'users' already exists.",
     "output_type": "error",
     "traceback": [
      "\u001b[0;31m---------------------------------------------------------------------------\u001b[0m",
      "\u001b[0;31mValueError\u001b[0m                                Traceback (most recent call last)",
      "\u001b[0;32m/tmp/ipykernel_1470/3979237319.py\u001b[0m in \u001b[0;36m<module>\u001b[0;34m\u001b[0m\n\u001b[1;32m      1\u001b[0m \u001b[0musers_df\u001b[0m \u001b[0;34m=\u001b[0m \u001b[0mpd\u001b[0m\u001b[0;34m.\u001b[0m\u001b[0mread_csv\u001b[0m\u001b[0;34m(\u001b[0m\u001b[0;34m'users.csv'\u001b[0m\u001b[0;34m,\u001b[0m \u001b[0mindex_col\u001b[0m\u001b[0;34m=\u001b[0m\u001b[0;36m0\u001b[0m\u001b[0;34m)\u001b[0m\u001b[0;34m\u001b[0m\u001b[0;34m\u001b[0m\u001b[0m\n\u001b[0;32m----> 2\u001b[0;31m \u001b[0musers_df\u001b[0m\u001b[0;34m.\u001b[0m\u001b[0mto_sql\u001b[0m\u001b[0;34m(\u001b[0m\u001b[0;34m'users'\u001b[0m\u001b[0;34m,\u001b[0m \u001b[0mconn\u001b[0m\u001b[0;34m)\u001b[0m\u001b[0;34m\u001b[0m\u001b[0;34m\u001b[0m\u001b[0m\n\u001b[0m\u001b[1;32m      3\u001b[0m \u001b[0;34m\u001b[0m\u001b[0m\n\u001b[1;32m      4\u001b[0m \u001b[0mfollows_df\u001b[0m \u001b[0;34m=\u001b[0m \u001b[0mpd\u001b[0m\u001b[0;34m.\u001b[0m\u001b[0mread_csv\u001b[0m\u001b[0;34m(\u001b[0m\u001b[0;34m'follows.csv'\u001b[0m\u001b[0;34m,\u001b[0m \u001b[0mindex_col\u001b[0m\u001b[0;34m=\u001b[0m\u001b[0;36m0\u001b[0m\u001b[0;34m)\u001b[0m\u001b[0;34m\u001b[0m\u001b[0;34m\u001b[0m\u001b[0m\n\u001b[1;32m      5\u001b[0m \u001b[0mfollows_df\u001b[0m\u001b[0;34m[\u001b[0m\u001b[0;34m'date'\u001b[0m\u001b[0;34m]\u001b[0m \u001b[0;34m=\u001b[0m \u001b[0mpd\u001b[0m\u001b[0;34m.\u001b[0m\u001b[0mto_datetime\u001b[0m\u001b[0;34m(\u001b[0m\u001b[0mfollows_df\u001b[0m\u001b[0;34m[\u001b[0m\u001b[0;34m'date'\u001b[0m\u001b[0;34m]\u001b[0m\u001b[0;34m)\u001b[0m\u001b[0;34m\u001b[0m\u001b[0;34m\u001b[0m\u001b[0m\n",
      "\u001b[0;32m~/.pyenv/versions/lewagon/lib/python3.8/site-packages/pandas/core/generic.py\u001b[0m in \u001b[0;36mto_sql\u001b[0;34m(self, name, con, schema, if_exists, index, index_label, chunksize, dtype, method)\u001b[0m\n\u001b[1;32m   2870\u001b[0m         \u001b[0;32mfrom\u001b[0m \u001b[0mpandas\u001b[0m\u001b[0;34m.\u001b[0m\u001b[0mio\u001b[0m \u001b[0;32mimport\u001b[0m \u001b[0msql\u001b[0m\u001b[0;34m\u001b[0m\u001b[0;34m\u001b[0m\u001b[0m\n\u001b[1;32m   2871\u001b[0m \u001b[0;34m\u001b[0m\u001b[0m\n\u001b[0;32m-> 2872\u001b[0;31m         sql.to_sql(\n\u001b[0m\u001b[1;32m   2873\u001b[0m             \u001b[0mself\u001b[0m\u001b[0;34m,\u001b[0m\u001b[0;34m\u001b[0m\u001b[0;34m\u001b[0m\u001b[0m\n\u001b[1;32m   2874\u001b[0m             \u001b[0mname\u001b[0m\u001b[0;34m,\u001b[0m\u001b[0;34m\u001b[0m\u001b[0;34m\u001b[0m\u001b[0m\n",
      "\u001b[0;32m~/.pyenv/versions/lewagon/lib/python3.8/site-packages/pandas/io/sql.py\u001b[0m in \u001b[0;36mto_sql\u001b[0;34m(frame, name, con, schema, if_exists, index, index_label, chunksize, dtype, method, engine, **engine_kwargs)\u001b[0m\n\u001b[1;32m    715\u001b[0m         )\n\u001b[1;32m    716\u001b[0m \u001b[0;34m\u001b[0m\u001b[0m\n\u001b[0;32m--> 717\u001b[0;31m     pandas_sql.to_sql(\n\u001b[0m\u001b[1;32m    718\u001b[0m         \u001b[0mframe\u001b[0m\u001b[0;34m,\u001b[0m\u001b[0;34m\u001b[0m\u001b[0;34m\u001b[0m\u001b[0m\n\u001b[1;32m    719\u001b[0m         \u001b[0mname\u001b[0m\u001b[0;34m,\u001b[0m\u001b[0;34m\u001b[0m\u001b[0;34m\u001b[0m\u001b[0m\n",
      "\u001b[0;32m~/.pyenv/versions/lewagon/lib/python3.8/site-packages/pandas/io/sql.py\u001b[0m in \u001b[0;36mto_sql\u001b[0;34m(self, frame, name, if_exists, index, index_label, schema, chunksize, dtype, method, **kwargs)\u001b[0m\n\u001b[1;32m   2223\u001b[0m             \u001b[0mdtype\u001b[0m\u001b[0;34m=\u001b[0m\u001b[0mdtype\u001b[0m\u001b[0;34m,\u001b[0m\u001b[0;34m\u001b[0m\u001b[0;34m\u001b[0m\u001b[0m\n\u001b[1;32m   2224\u001b[0m         )\n\u001b[0;32m-> 2225\u001b[0;31m         \u001b[0mtable\u001b[0m\u001b[0;34m.\u001b[0m\u001b[0mcreate\u001b[0m\u001b[0;34m(\u001b[0m\u001b[0;34m)\u001b[0m\u001b[0;34m\u001b[0m\u001b[0;34m\u001b[0m\u001b[0m\n\u001b[0m\u001b[1;32m   2226\u001b[0m         \u001b[0mtable\u001b[0m\u001b[0;34m.\u001b[0m\u001b[0minsert\u001b[0m\u001b[0;34m(\u001b[0m\u001b[0mchunksize\u001b[0m\u001b[0;34m,\u001b[0m \u001b[0mmethod\u001b[0m\u001b[0;34m)\u001b[0m\u001b[0;34m\u001b[0m\u001b[0;34m\u001b[0m\u001b[0m\n\u001b[1;32m   2227\u001b[0m \u001b[0;34m\u001b[0m\u001b[0m\n",
      "\u001b[0;32m~/.pyenv/versions/lewagon/lib/python3.8/site-packages/pandas/io/sql.py\u001b[0m in \u001b[0;36mcreate\u001b[0;34m(self)\u001b[0m\n\u001b[1;32m    856\u001b[0m         \u001b[0;32mif\u001b[0m \u001b[0mself\u001b[0m\u001b[0;34m.\u001b[0m\u001b[0mexists\u001b[0m\u001b[0;34m(\u001b[0m\u001b[0;34m)\u001b[0m\u001b[0;34m:\u001b[0m\u001b[0;34m\u001b[0m\u001b[0;34m\u001b[0m\u001b[0m\n\u001b[1;32m    857\u001b[0m             \u001b[0;32mif\u001b[0m \u001b[0mself\u001b[0m\u001b[0;34m.\u001b[0m\u001b[0mif_exists\u001b[0m \u001b[0;34m==\u001b[0m \u001b[0;34m\"fail\"\u001b[0m\u001b[0;34m:\u001b[0m\u001b[0;34m\u001b[0m\u001b[0;34m\u001b[0m\u001b[0m\n\u001b[0;32m--> 858\u001b[0;31m                 \u001b[0;32mraise\u001b[0m \u001b[0mValueError\u001b[0m\u001b[0;34m(\u001b[0m\u001b[0;34mf\"Table '{self.name}' already exists.\"\u001b[0m\u001b[0;34m)\u001b[0m\u001b[0;34m\u001b[0m\u001b[0;34m\u001b[0m\u001b[0m\n\u001b[0m\u001b[1;32m    859\u001b[0m             \u001b[0;32melif\u001b[0m \u001b[0mself\u001b[0m\u001b[0;34m.\u001b[0m\u001b[0mif_exists\u001b[0m \u001b[0;34m==\u001b[0m \u001b[0;34m\"replace\"\u001b[0m\u001b[0;34m:\u001b[0m\u001b[0;34m\u001b[0m\u001b[0;34m\u001b[0m\u001b[0m\n\u001b[1;32m    860\u001b[0m                 \u001b[0mself\u001b[0m\u001b[0;34m.\u001b[0m\u001b[0mpd_sql\u001b[0m\u001b[0;34m.\u001b[0m\u001b[0mdrop_table\u001b[0m\u001b[0;34m(\u001b[0m\u001b[0mself\u001b[0m\u001b[0;34m.\u001b[0m\u001b[0mname\u001b[0m\u001b[0;34m,\u001b[0m \u001b[0mself\u001b[0m\u001b[0;34m.\u001b[0m\u001b[0mschema\u001b[0m\u001b[0;34m)\u001b[0m\u001b[0;34m\u001b[0m\u001b[0;34m\u001b[0m\u001b[0m\n",
      "\u001b[0;31mValueError\u001b[0m: Table 'users' already exists."
     ]
    }
   ],
   "source": [
    "users_df = pd.read_csv('users.csv', index_col=0)\n",
    "users_df.to_sql('users', conn)\n",
    "\n",
    "follows_df = pd.read_csv('follows.csv', index_col=0)\n",
    "follows_df['date'] = pd.to_datetime(follows_df['date'])\n",
    "follows_df.to_sql('follows', conn)\n",
    "\n",
    "conn.commit()"
   ]
  },
  {
   "cell_type": "code",
   "execution_count": 5,
   "metadata": {},
   "outputs": [],
   "source": [
    "def print_rows(rows):\n",
    "    \n",
    "    for row in rows:\n",
    "        print(row)"
   ]
  },
  {
   "cell_type": "code",
   "execution_count": 6,
   "metadata": {},
   "outputs": [
    {
     "name": "stdout",
     "output_type": "stream",
     "text": [
      "(1, 'Harry', 'Potter', 'Gryffindor')\n",
      "(2, 'Ron', 'Wesley', 'Gryffindor')\n",
      "(3, 'Hermonie', 'Granger', 'Gryffindor')\n",
      "(4, 'Ginny', 'Weasley', 'Gryffindor')\n",
      "(5, 'Draco', 'Malfoy', 'Slytherin')\n",
      "(6, 'Tom', 'Riddle', 'Slytherin')\n",
      "(7, 'Luna', 'Lovegood', 'Ravenclaw')\n",
      "(8, 'Cho', 'Chang', 'Ravenclaw')\n",
      "(9, 'Cedric', 'Diggory', 'Hufflepuff')\n"
     ]
    }
   ],
   "source": [
    "select_users = '''\n",
    "    SELECT * FROM USERS\n",
    "'''\n",
    "\n",
    "rows = cursor.execute(select_users).fetchall()\n",
    "\n",
    "print_rows(rows)"
   ]
  },
  {
   "cell_type": "code",
   "execution_count": 7,
   "metadata": {},
   "outputs": [
    {
     "name": "stdout",
     "output_type": "stream",
     "text": [
      "(1, 2, '1993-09-01 00:00:00')\n",
      "(2, 1, '1989-01-01 00:00:00')\n",
      "(3, 1, '1993-07-01 00:00:00')\n",
      "(2, 3, '1994-10-10 00:00:00')\n",
      "(3, 2, '1995-03-01 00:00:00')\n",
      "(4, 2, '1988-08-08 00:00:00')\n",
      "(4, 1, '1988-08-08 00:00:00')\n",
      "(1, 4, '1994-04-02 00:00:00')\n",
      "(1, 5, '2000-01-01 00:00:00')\n",
      "(5, 1, '2000-01-02 00:00:00')\n",
      "(5, 6, '1986-01-10 00:00:00')\n",
      "(7, 1, '1990-02-02 00:00:00')\n",
      "(1, 7, '1996-10-01 00:00:00')\n",
      "(1, 8, '1993-09-03 00:00:00')\n",
      "(8, 1, '1995-09-01 00:00:00')\n",
      "(8, 9, '1995-09-01 00:00:00')\n",
      "(9, 8, '1996-01-10 00:00:00')\n",
      "(7, 8, '1993-09-01 00:00:00')\n",
      "(3, 9, '1996-05-30 00:00:00')\n",
      "(4, 9, '1996-05-30 00:00:00')\n"
     ]
    }
   ],
   "source": [
    "select_follows = '''\n",
    "    SELECT * FROM FOLLOWS\n",
    "'''\n",
    "\n",
    "rows = cursor.execute(select_follows).fetchall()\n",
    "\n",
    "print_rows(rows)"
   ]
  },
  {
   "cell_type": "markdown",
   "metadata": {},
   "source": [
    "## Answers\n",
    "### Users per house"
   ]
  },
  {
   "cell_type": "code",
   "execution_count": 8,
   "metadata": {},
   "outputs": [
    {
     "name": "stdout",
     "output_type": "stream",
     "text": [
      "(4, 'Gryffindor')\n",
      "(2, 'Slytherin')\n",
      "(2, 'Ravenclaw')\n",
      "(1, 'Hufflepuff')\n"
     ]
    }
   ],
   "source": [
    "select_users_house = '''\n",
    "    SELECT COUNT(*), u.house\n",
    "    FROM USERS u\n",
    "    GROUP BY u.house\n",
    "    ORDER BY COUNT(*) DESC\n",
    "'''\n",
    "\n",
    "rows = cursor.execute(select_users_house).fetchall()\n",
    "\n",
    "print_rows(rows)"
   ]
  },
  {
   "cell_type": "markdown",
   "metadata": {},
   "source": [
    "### Links before 1st September 1993"
   ]
  },
  {
   "cell_type": "code",
   "execution_count": 9,
   "metadata": {},
   "outputs": [
    {
     "name": "stdout",
     "output_type": "stream",
     "text": [
      "(3, 1, '1993-07-01 00:00:00')\n",
      "(7, 1, '1990-02-02 00:00:00')\n",
      "(2, 1, '1989-01-01 00:00:00')\n",
      "(4, 2, '1988-08-08 00:00:00')\n",
      "(4, 1, '1988-08-08 00:00:00')\n",
      "(5, 6, '1986-01-10 00:00:00')\n"
     ]
    }
   ],
   "source": [
    "select_links_before = '''\n",
    "    SELECT *\n",
    "    FROM FOLLOWS f\n",
    "    WHERE f.date < '1993-09-01'\n",
    "    ORDER BY f.date DESC\n",
    "'''\n",
    "\n",
    "rows = cursor.execute(select_links_before).fetchall()\n",
    "\n",
    "print_rows(rows)"
   ]
  },
  {
   "cell_type": "markdown",
   "metadata": {},
   "source": [
    "### Links before 1st September 1993 with user names"
   ]
  },
  {
   "cell_type": "code",
   "execution_count": 13,
   "metadata": {},
   "outputs": [
    {
     "name": "stdout",
     "output_type": "stream",
     "text": [
      "('Hermonie', 'Harry', '1993-07-01 00:00:00')\n",
      "('Luna', 'Harry', '1990-02-02 00:00:00')\n",
      "('Ron', 'Harry', '1989-01-01 00:00:00')\n",
      "('Ginny', 'Ron', '1988-08-08 00:00:00')\n",
      "('Ginny', 'Harry', '1988-08-08 00:00:00')\n",
      "('Draco', 'Tom', '1986-01-10 00:00:00')\n"
     ]
    }
   ],
   "source": [
    "select_links_users = '''\n",
    "    SELECT u1.first_name, u2.first_name, f.date\n",
    "    FROM FOLLOWS f\n",
    "    JOIN USERS u1 ON u1.user_id = f.user_id\n",
    "    JOIN USERS u2 ON u2.user_id = f.follows\n",
    "    WHERE f.date < '1993-09-01'\n",
    "    ORDER BY f.date DESC\n",
    "'''\n",
    "\n",
    "rows = cursor.execute(select_links_users).fetchall()\n",
    "\n",
    "print_rows(rows)"
   ]
  },
  {
   "cell_type": "markdown",
   "metadata": {},
   "source": [
    "### Followers by user"
   ]
  },
  {
   "cell_type": "code",
   "execution_count": 15,
   "metadata": {},
   "outputs": [
    {
     "name": "stdout",
     "output_type": "stream",
     "text": [
      "('Harry Potter', 5)\n",
      "('Cedric Diggory', 3)\n",
      "('Cho Chang', 3)\n",
      "('Ron Wesley', 3)\n",
      "('Luna Lovegood', 1)\n",
      "('Tom Riddle', 1)\n",
      "('Ginny Weasley', 1)\n",
      "('Hermonie Granger', 1)\n"
     ]
    }
   ],
   "source": [
    "select_user_followers = '''\n",
    "    SELECT u.first_name || ' ' || u.last_name as full_name,\n",
    "        COUNT(*) as followers\n",
    "    FROM FOLLOWS f\n",
    "    JOIN USERS u ON u.user_id = f.follows\n",
    "    WHERE f.date <= '1999-12-31'\n",
    "    GROUP BY f.follows\n",
    "    ORDER BY COUNT(*) DESC\n",
    "'''\n",
    "\n",
    "rows = cursor.execute(select_user_followers).fetchall()\n",
    "\n",
    "print_rows(rows)"
   ]
  },
  {
   "cell_type": "markdown",
   "metadata": {},
   "source": [
    "### Follows by user"
   ]
  },
  {
   "cell_type": "code",
   "execution_count": 17,
   "metadata": {},
   "outputs": [
    {
     "name": "stdout",
     "output_type": "stream",
     "text": [
      "('Harry Potter', 5)\n",
      "('Ron Wesley', 2)\n",
      "('Hermonie Granger', 3)\n",
      "('Ginny Weasley', 3)\n",
      "('Draco Malfoy', 2)\n",
      "('Luna Lovegood', 2)\n",
      "('Cho Chang', 2)\n",
      "('Cedric Diggory', 1)\n"
     ]
    }
   ],
   "source": [
    "select_user_follows = '''\n",
    "    SELECT u.first_name || ' ' || u.last_name as full_name,\n",
    "        COUNT(*) as followers\n",
    "    FROM FOLLOWS f\n",
    "    JOIN USERS u ON u.user_id = f.user_id\n",
    "    GROUP BY f.user_id\n",
    "    ORDER BY f.user_id ASC\n",
    "'''\n",
    "\n",
    "rows = cursor.execute(select_user_follows).fetchall()\n",
    "\n",
    "print_rows(rows)"
   ]
  },
  {
   "cell_type": "markdown",
   "metadata": {},
   "source": [
    "### Follows to different house"
   ]
  },
  {
   "cell_type": "code",
   "execution_count": 21,
   "metadata": {},
   "outputs": [
    {
     "name": "stdout",
     "output_type": "stream",
     "text": [
      "('Harry', 'Draco', '2000-01-01 00:00:00')\n",
      "('Draco', 'Harry', '2000-01-02 00:00:00')\n",
      "('Luna', 'Harry', '1990-02-02 00:00:00')\n",
      "('Harry', 'Luna', '1996-10-01 00:00:00')\n",
      "('Harry', 'Cho', '1993-09-03 00:00:00')\n",
      "('Cho', 'Harry', '1995-09-01 00:00:00')\n",
      "('Cho', 'Cedric', '1995-09-01 00:00:00')\n",
      "('Cedric', 'Cho', '1996-01-10 00:00:00')\n",
      "('Hermonie', 'Cedric', '1996-05-30 00:00:00')\n",
      "('Ginny', 'Cedric', '1996-05-30 00:00:00')\n"
     ]
    }
   ],
   "source": [
    "select_follows_diff_house = '''\n",
    "    SELECT u1.first_name, u2.first_name, f.date\n",
    "    FROM FOLLOWS f\n",
    "    JOIN USERS u1 ON u1.user_id = f.user_id\n",
    "    JOIN USERS u2 ON u2.user_id = f.follows\n",
    "    WHERE u1.house != u2.house\n",
    "'''\n",
    "\n",
    "rows = cursor.execute(select_follows_diff_house).fetchall()\n",
    "\n",
    "print_rows(rows)"
   ]
  },
  {
   "cell_type": "markdown",
   "metadata": {},
   "source": [
    "### Unrequited followings"
   ]
  },
  {
   "cell_type": "code",
   "execution_count": 32,
   "metadata": {},
   "outputs": [
    {
     "name": "stdout",
     "output_type": "stream",
     "text": [
      "(3, 1, '1993-07-01 00:00:00')\n",
      "(4, 2, '1988-08-08 00:00:00')\n",
      "(5, 6, '1986-01-10 00:00:00')\n",
      "(7, 8, '1993-09-01 00:00:00')\n",
      "(3, 9, '1996-05-30 00:00:00')\n",
      "(4, 9, '1996-05-30 00:00:00')\n"
     ]
    }
   ],
   "source": [
    "select_unreq_follows = '''\n",
    "    SELECT f1.*\n",
    "    FROM FOLLOWS f1\n",
    "    LEFT JOIN FOLLOWS f2\n",
    "    ON f1.user_id = f2.follows\n",
    "    AND f1.follows = f2.user_id\n",
    "    WHERE f2.user_id IS NULL \n",
    "'''\n",
    "\n",
    "rows = cursor.execute(select_unreq_follows).fetchall()\n",
    "\n",
    "print_rows(rows)"
   ]
  }
 ],
 "metadata": {
  "kernelspec": {
   "display_name": "Python 3.8.12 64-bit ('shims')",
   "language": "python",
   "name": "python3"
  },
  "language_info": {
   "codemirror_mode": {
    "name": "ipython",
    "version": 3
   },
   "file_extension": ".py",
   "mimetype": "text/x-python",
   "name": "python",
   "nbconvert_exporter": "python",
   "pygments_lexer": "ipython3",
   "version": "3.8.12"
  },
  "orig_nbformat": 4,
  "vscode": {
   "interpreter": {
    "hash": "e06717285864d9f41bc05c8c2a2ca0a74316abf8b7040700d6ddcbbc509580b3"
   }
  }
 },
 "nbformat": 4,
 "nbformat_minor": 2
}
